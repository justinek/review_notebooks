{
 "cells": [
  {
   "cell_type": "code",
   "execution_count": 2,
   "id": "101f90a6-0655-4d1e-a6aa-40d6328e813f",
   "metadata": {},
   "outputs": [],
   "source": [
    "import pandas as pd"
   ]
  },
  {
   "cell_type": "markdown",
   "id": "62b46fd1-105f-4cbc-bfc5-c44994c6a595",
   "metadata": {},
   "source": [
    "## Variables"
   ]
  },
  {
   "cell_type": "code",
   "execution_count": 6,
   "id": "7137cac8-1ac8-40e4-a5a7-58fae27cfe2c",
   "metadata": {},
   "outputs": [],
   "source": [
    "PATH = \"/private/home/jtk/better_analytics/\""
   ]
  },
  {
   "cell_type": "markdown",
   "id": "b469c4e9-4c2b-416e-9818-63b0916d5f03",
   "metadata": {},
   "source": [
    "## Read data file"
   ]
  },
  {
   "cell_type": "code",
   "execution_count": 7,
   "id": "0a4efe5e-177e-4e01-91a1-00eaf7f78b5b",
   "metadata": {},
   "outputs": [],
   "source": [
    "df = pd.read_csv(PATH + \"test.tsv\", sep=\"\\t\")"
   ]
  },
  {
   "cell_type": "code",
   "execution_count": 8,
   "id": "e803b854-fb37-4d37-93e3-28d5f47ef10b",
   "metadata": {},
   "outputs": [
    {
     "data": {
      "text/html": [
       "<div>\n",
       "<style scoped>\n",
       "    .dataframe tbody tr th:only-of-type {\n",
       "        vertical-align: middle;\n",
       "    }\n",
       "\n",
       "    .dataframe tbody tr th {\n",
       "        vertical-align: top;\n",
       "    }\n",
       "\n",
       "    .dataframe thead th {\n",
       "        text-align: right;\n",
       "    }\n",
       "</style>\n",
       "<table border=\"1\" class=\"dataframe\">\n",
       "  <thead>\n",
       "    <tr style=\"text-align: right;\">\n",
       "      <th></th>\n",
       "      <th>item_id</th>\n",
       "      <th>annotator_id</th>\n",
       "      <th>score</th>\n",
       "      <th>system</th>\n",
       "    </tr>\n",
       "  </thead>\n",
       "  <tbody>\n",
       "    <tr>\n",
       "      <th>0</th>\n",
       "      <td>1</td>\n",
       "      <td>aa</td>\n",
       "      <td>5</td>\n",
       "      <td>baseline</td>\n",
       "    </tr>\n",
       "    <tr>\n",
       "      <th>1</th>\n",
       "      <td>1</td>\n",
       "      <td>bb</td>\n",
       "      <td>4</td>\n",
       "      <td>baseline</td>\n",
       "    </tr>\n",
       "    <tr>\n",
       "      <th>2</th>\n",
       "      <td>1</td>\n",
       "      <td>cc</td>\n",
       "      <td>4</td>\n",
       "      <td>baseline</td>\n",
       "    </tr>\n",
       "    <tr>\n",
       "      <th>3</th>\n",
       "      <td>2</td>\n",
       "      <td>aa</td>\n",
       "      <td>5</td>\n",
       "      <td>baseline</td>\n",
       "    </tr>\n",
       "    <tr>\n",
       "      <th>4</th>\n",
       "      <td>2</td>\n",
       "      <td>bb</td>\n",
       "      <td>2</td>\n",
       "      <td>baseline</td>\n",
       "    </tr>\n",
       "  </tbody>\n",
       "</table>\n",
       "</div>"
      ],
      "text/plain": [
       "   item_id annotator_id  score    system\n",
       "0        1           aa      5  baseline\n",
       "1        1           bb      4  baseline\n",
       "2        1           cc      4  baseline\n",
       "3        2           aa      5  baseline\n",
       "4        2           bb      2  baseline"
      ]
     },
     "execution_count": 8,
     "metadata": {},
     "output_type": "execute_result"
    }
   ],
   "source": [
    "df.head()"
   ]
  },
  {
   "cell_type": "markdown",
   "id": "a0b24619-4181-4914-85fc-96b21b1136fb",
   "metadata": {},
   "source": [
    "## Calculate score per item"
   ]
  },
  {
   "cell_type": "code",
   "execution_count": 15,
   "id": "a33bd031-a669-410d-93f1-ae1fdabec4d0",
   "metadata": {},
   "outputs": [],
   "source": [
    "df_item = df.groupby(['system','item_id',])\\\n",
    "    .agg({'score'     :['median',list]})\n",
    "df_item.columns = ['_'.join(col).strip() for col in df_item.columns.values]\n",
    "\n",
    "df_item = df_item.reset_index()"
   ]
  },
  {
   "cell_type": "code",
   "execution_count": 16,
   "id": "347daeef-a4be-4346-b102-d8c9ad5813ad",
   "metadata": {},
   "outputs": [
    {
     "data": {
      "text/html": [
       "<div>\n",
       "<style scoped>\n",
       "    .dataframe tbody tr th:only-of-type {\n",
       "        vertical-align: middle;\n",
       "    }\n",
       "\n",
       "    .dataframe tbody tr th {\n",
       "        vertical-align: top;\n",
       "    }\n",
       "\n",
       "    .dataframe thead th {\n",
       "        text-align: right;\n",
       "    }\n",
       "</style>\n",
       "<table border=\"1\" class=\"dataframe\">\n",
       "  <thead>\n",
       "    <tr style=\"text-align: right;\">\n",
       "      <th></th>\n",
       "      <th>system</th>\n",
       "      <th>item_id</th>\n",
       "      <th>score_median</th>\n",
       "      <th>score_list</th>\n",
       "    </tr>\n",
       "  </thead>\n",
       "  <tbody>\n",
       "    <tr>\n",
       "      <th>0</th>\n",
       "      <td>baseline</td>\n",
       "      <td>1</td>\n",
       "      <td>4</td>\n",
       "      <td>[5, 4, 4]</td>\n",
       "    </tr>\n",
       "    <tr>\n",
       "      <th>1</th>\n",
       "      <td>baseline</td>\n",
       "      <td>2</td>\n",
       "      <td>3</td>\n",
       "      <td>[5, 2, 3]</td>\n",
       "    </tr>\n",
       "    <tr>\n",
       "      <th>2</th>\n",
       "      <td>baseline</td>\n",
       "      <td>3</td>\n",
       "      <td>4</td>\n",
       "      <td>[5, 4, 4]</td>\n",
       "    </tr>\n",
       "    <tr>\n",
       "      <th>3</th>\n",
       "      <td>baseline</td>\n",
       "      <td>4</td>\n",
       "      <td>2</td>\n",
       "      <td>[4, 2, 2]</td>\n",
       "    </tr>\n",
       "    <tr>\n",
       "      <th>4</th>\n",
       "      <td>baseline</td>\n",
       "      <td>5</td>\n",
       "      <td>1</td>\n",
       "      <td>[4, 1, 1]</td>\n",
       "    </tr>\n",
       "  </tbody>\n",
       "</table>\n",
       "</div>"
      ],
      "text/plain": [
       "     system  item_id  score_median score_list\n",
       "0  baseline        1             4  [5, 4, 4]\n",
       "1  baseline        2             3  [5, 2, 3]\n",
       "2  baseline        3             4  [5, 4, 4]\n",
       "3  baseline        4             2  [4, 2, 2]\n",
       "4  baseline        5             1  [4, 1, 1]"
      ]
     },
     "execution_count": 16,
     "metadata": {},
     "output_type": "execute_result"
    }
   ],
   "source": [
    "df_item.head()"
   ]
  },
  {
   "cell_type": "code",
   "execution_count": null,
   "id": "7c2b9b79-b0fe-4477-83ea-e9a349554ce3",
   "metadata": {},
   "outputs": [],
   "source": []
  }
 ],
 "metadata": {
  "kernelspec": {
   "display_name": "Python 3",
   "language": "python",
   "name": "python3"
  },
  "language_info": {
   "codemirror_mode": {
    "name": "ipython",
    "version": 3
   },
   "file_extension": ".py",
   "mimetype": "text/x-python",
   "name": "python",
   "nbconvert_exporter": "python",
   "pygments_lexer": "ipython3",
   "version": "3.8.8"
  }
 },
 "nbformat": 4,
 "nbformat_minor": 5
}
